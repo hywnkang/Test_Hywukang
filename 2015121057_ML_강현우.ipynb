{
  "nbformat": 4,
  "nbformat_minor": 0,
  "metadata": {
    "colab": {
      "name": "ML 과제.ipynb",
      "provenance": []
    },
    "kernelspec": {
      "name": "python3",
      "display_name": "Python 3"
    },
    "language_info": {
      "name": "python"
    }
  },
  "cells": [
    {
      "cell_type": "code",
      "execution_count": 1,
      "metadata": {
        "id": "1AWIATyIacOL"
      },
      "outputs": [],
      "source": [
        "import pandas as pd\n",
        "from sklearn.ensemble import RandomForestRegressor\n",
        "\n",
        "train = pd.read_csv('movies_train.csv')\n",
        "test = pd.read_csv('movies_test.csv')"
      ]
    },
    {
      "cell_type": "markdown",
      "source": [
        "# 데이터 전처리"
      ],
      "metadata": {
        "id": "6yaoqpCutVLf"
      }
    },
    {
      "cell_type": "code",
      "source": [
        "# 결측치가 많은 데이터 제거\n",
        "train = train.drop(['dir_prev_bfnum'],axis = 1)\n",
        "test =  test.drop(['dir_prev_bfnum'],axis = 1)"
      ],
      "metadata": {
        "id": "Yl2kA7fFtP5R"
      },
      "execution_count": 2,
      "outputs": []
    },
    {
      "cell_type": "code",
      "source": [
        "# 감독명 : 너무 다양해서 제거\n",
        "train = train.drop(['director'],axis = 1)\n",
        "test = test.drop(['director'],axis = 1)"
      ],
      "metadata": {
        "id": "lIk3wrTctQ9v"
      },
      "execution_count": 3,
      "outputs": []
    },
    {
      "cell_type": "code",
      "source": [
        "# 제목 : 의미가 없기 때문에 제거\n",
        "train = train.drop(['title'],axis= 1)\n",
        "test = test.drop(['title'],axis= 1)"
      ],
      "metadata": {
        "id": "ePWuo17btR1M"
      },
      "execution_count": 4,
      "outputs": []
    },
    {
      "cell_type": "code",
      "source": [
        "# 상위 5개의 배급사를 제외하고 '기타'로처리\n",
        "distributor_list = train.distributor.value_counts()[:5]\n",
        "def func(distributor):\n",
        "    if distributor in distributor_list:\n",
        "        return distributor\n",
        "    else:\n",
        "        return '기타'\n",
        "\n",
        "train['distributor'] = train['distributor'].apply(lambda x : func(x))\n",
        "test['distributor'] = test['distributor'].apply(lambda x : func(x))"
      ],
      "metadata": {
        "id": "gJLgQnsftUi3"
      },
      "execution_count": 5,
      "outputs": []
    },
    {
      "cell_type": "code",
      "source": [
        "# 개봉일을 바탕으로 년,월 변수 생성\n",
        "train['년'] = train['release_time'].apply(lambda x: int(x[:4]))\n",
        "train['월'] = train['release_time'].apply(lambda x: int(x[5:7]))\n",
        "train =  train.drop(['release_time'],axis = 1)\n",
        "\n",
        "test['년'] = test['release_time'].apply(lambda x: int(x[:4]))\n",
        "test['월'] = test['release_time'].apply(lambda x: int(x[5:7]))\n",
        "test =  test.drop(['release_time'],axis = 1)"
      ],
      "metadata": {
        "id": "go0393kDtapB"
      },
      "execution_count": 6,
      "outputs": []
    },
    {
      "cell_type": "code",
      "source": [
        "# 원핫 인코딩\n",
        "train = pd.get_dummies(train)\n",
        "test = pd.get_dummies(test)"
      ],
      "metadata": {
        "id": "8OU0rcEktbvc"
      },
      "execution_count": 7,
      "outputs": []
    },
    {
      "cell_type": "markdown",
      "source": [
        "# 모델 생성 및 예측(과제부분)"
      ],
      "metadata": {
        "id": "QKlW-N1wtfcX"
      }
    },
    {
      "cell_type": "code",
      "source": [
        "train_x = train.drop(['box_off_num'],axis= 1)\n",
        "train_y = train['box_off_num']"
      ],
      "metadata": {
        "id": "NiON_n6Xth_4"
      },
      "execution_count": 8,
      "outputs": []
    },
    {
      "cell_type": "code",
      "source": [
        "model=RandomForestRegressor()\n",
        "model.fit(train_x,train_y)"
      ],
      "metadata": {
        "colab": {
          "base_uri": "https://localhost:8080/"
        },
        "id": "mSS_Imr_tiB8",
        "outputId": "449655f7-f04a-4286-a9e6-e6bf9d134373"
      },
      "execution_count": 9,
      "outputs": [
        {
          "output_type": "execute_result",
          "data": {
            "text/plain": [
              "RandomForestRegressor()"
            ]
          },
          "metadata": {},
          "execution_count": 9
        }
      ]
    },
    {
      "cell_type": "code",
      "source": [
        "pred = model.predict(test)"
      ],
      "metadata": {
        "id": "IPCxBt-Wtpzw"
      },
      "execution_count": 10,
      "outputs": []
    },
    {
      "cell_type": "markdown",
      "source": [
        "# 제출"
      ],
      "metadata": {
        "id": "wUS7MUcctquK"
      }
    },
    {
      "cell_type": "code",
      "source": [
        "submission = pd.read_csv('/content/submission.csv')\n",
        "submission"
      ],
      "metadata": {
        "colab": {
          "base_uri": "https://localhost:8080/",
          "height": 424
        },
        "id": "YRoaRvpotuVy",
        "outputId": "606b8195-9e8a-43ee-be81-2e6446b237fb"
      },
      "execution_count": 11,
      "outputs": [
        {
          "output_type": "execute_result",
          "data": {
            "text/plain": [
              "               title  box_off_num\n",
              "0             용서는 없다            0\n",
              "1        아빠가 여자를 좋아해            0\n",
              "2                하모니            0\n",
              "3                의형제            0\n",
              "4              평행 이론            0\n",
              "..               ...          ...\n",
              "238        해에게서 소년에게            0\n",
              "239           울보 권투부            0\n",
              "240             어떤살인            0\n",
              "241        말하지 못한 비밀            0\n",
              "242  조선안방 스캔들-칠거지악 2            0\n",
              "\n",
              "[243 rows x 2 columns]"
            ],
            "text/html": [
              "\n",
              "  <div id=\"df-8995c670-40f5-400a-aaf3-fcb2a93cdef6\">\n",
              "    <div class=\"colab-df-container\">\n",
              "      <div>\n",
              "<style scoped>\n",
              "    .dataframe tbody tr th:only-of-type {\n",
              "        vertical-align: middle;\n",
              "    }\n",
              "\n",
              "    .dataframe tbody tr th {\n",
              "        vertical-align: top;\n",
              "    }\n",
              "\n",
              "    .dataframe thead th {\n",
              "        text-align: right;\n",
              "    }\n",
              "</style>\n",
              "<table border=\"1\" class=\"dataframe\">\n",
              "  <thead>\n",
              "    <tr style=\"text-align: right;\">\n",
              "      <th></th>\n",
              "      <th>title</th>\n",
              "      <th>box_off_num</th>\n",
              "    </tr>\n",
              "  </thead>\n",
              "  <tbody>\n",
              "    <tr>\n",
              "      <th>0</th>\n",
              "      <td>용서는 없다</td>\n",
              "      <td>0</td>\n",
              "    </tr>\n",
              "    <tr>\n",
              "      <th>1</th>\n",
              "      <td>아빠가 여자를 좋아해</td>\n",
              "      <td>0</td>\n",
              "    </tr>\n",
              "    <tr>\n",
              "      <th>2</th>\n",
              "      <td>하모니</td>\n",
              "      <td>0</td>\n",
              "    </tr>\n",
              "    <tr>\n",
              "      <th>3</th>\n",
              "      <td>의형제</td>\n",
              "      <td>0</td>\n",
              "    </tr>\n",
              "    <tr>\n",
              "      <th>4</th>\n",
              "      <td>평행 이론</td>\n",
              "      <td>0</td>\n",
              "    </tr>\n",
              "    <tr>\n",
              "      <th>...</th>\n",
              "      <td>...</td>\n",
              "      <td>...</td>\n",
              "    </tr>\n",
              "    <tr>\n",
              "      <th>238</th>\n",
              "      <td>해에게서 소년에게</td>\n",
              "      <td>0</td>\n",
              "    </tr>\n",
              "    <tr>\n",
              "      <th>239</th>\n",
              "      <td>울보 권투부</td>\n",
              "      <td>0</td>\n",
              "    </tr>\n",
              "    <tr>\n",
              "      <th>240</th>\n",
              "      <td>어떤살인</td>\n",
              "      <td>0</td>\n",
              "    </tr>\n",
              "    <tr>\n",
              "      <th>241</th>\n",
              "      <td>말하지 못한 비밀</td>\n",
              "      <td>0</td>\n",
              "    </tr>\n",
              "    <tr>\n",
              "      <th>242</th>\n",
              "      <td>조선안방 스캔들-칠거지악 2</td>\n",
              "      <td>0</td>\n",
              "    </tr>\n",
              "  </tbody>\n",
              "</table>\n",
              "<p>243 rows × 2 columns</p>\n",
              "</div>\n",
              "      <button class=\"colab-df-convert\" onclick=\"convertToInteractive('df-8995c670-40f5-400a-aaf3-fcb2a93cdef6')\"\n",
              "              title=\"Convert this dataframe to an interactive table.\"\n",
              "              style=\"display:none;\">\n",
              "        \n",
              "  <svg xmlns=\"http://www.w3.org/2000/svg\" height=\"24px\"viewBox=\"0 0 24 24\"\n",
              "       width=\"24px\">\n",
              "    <path d=\"M0 0h24v24H0V0z\" fill=\"none\"/>\n",
              "    <path d=\"M18.56 5.44l.94 2.06.94-2.06 2.06-.94-2.06-.94-.94-2.06-.94 2.06-2.06.94zm-11 1L8.5 8.5l.94-2.06 2.06-.94-2.06-.94L8.5 2.5l-.94 2.06-2.06.94zm10 10l.94 2.06.94-2.06 2.06-.94-2.06-.94-.94-2.06-.94 2.06-2.06.94z\"/><path d=\"M17.41 7.96l-1.37-1.37c-.4-.4-.92-.59-1.43-.59-.52 0-1.04.2-1.43.59L10.3 9.45l-7.72 7.72c-.78.78-.78 2.05 0 2.83L4 21.41c.39.39.9.59 1.41.59.51 0 1.02-.2 1.41-.59l7.78-7.78 2.81-2.81c.8-.78.8-2.07 0-2.86zM5.41 20L4 18.59l7.72-7.72 1.47 1.35L5.41 20z\"/>\n",
              "  </svg>\n",
              "      </button>\n",
              "      \n",
              "  <style>\n",
              "    .colab-df-container {\n",
              "      display:flex;\n",
              "      flex-wrap:wrap;\n",
              "      gap: 12px;\n",
              "    }\n",
              "\n",
              "    .colab-df-convert {\n",
              "      background-color: #E8F0FE;\n",
              "      border: none;\n",
              "      border-radius: 50%;\n",
              "      cursor: pointer;\n",
              "      display: none;\n",
              "      fill: #1967D2;\n",
              "      height: 32px;\n",
              "      padding: 0 0 0 0;\n",
              "      width: 32px;\n",
              "    }\n",
              "\n",
              "    .colab-df-convert:hover {\n",
              "      background-color: #E2EBFA;\n",
              "      box-shadow: 0px 1px 2px rgba(60, 64, 67, 0.3), 0px 1px 3px 1px rgba(60, 64, 67, 0.15);\n",
              "      fill: #174EA6;\n",
              "    }\n",
              "\n",
              "    [theme=dark] .colab-df-convert {\n",
              "      background-color: #3B4455;\n",
              "      fill: #D2E3FC;\n",
              "    }\n",
              "\n",
              "    [theme=dark] .colab-df-convert:hover {\n",
              "      background-color: #434B5C;\n",
              "      box-shadow: 0px 1px 3px 1px rgba(0, 0, 0, 0.15);\n",
              "      filter: drop-shadow(0px 1px 2px rgba(0, 0, 0, 0.3));\n",
              "      fill: #FFFFFF;\n",
              "    }\n",
              "  </style>\n",
              "\n",
              "      <script>\n",
              "        const buttonEl =\n",
              "          document.querySelector('#df-8995c670-40f5-400a-aaf3-fcb2a93cdef6 button.colab-df-convert');\n",
              "        buttonEl.style.display =\n",
              "          google.colab.kernel.accessAllowed ? 'block' : 'none';\n",
              "\n",
              "        async function convertToInteractive(key) {\n",
              "          const element = document.querySelector('#df-8995c670-40f5-400a-aaf3-fcb2a93cdef6');\n",
              "          const dataTable =\n",
              "            await google.colab.kernel.invokeFunction('convertToInteractive',\n",
              "                                                     [key], {});\n",
              "          if (!dataTable) return;\n",
              "\n",
              "          const docLinkHtml = 'Like what you see? Visit the ' +\n",
              "            '<a target=\"_blank\" href=https://colab.research.google.com/notebooks/data_table.ipynb>data table notebook</a>'\n",
              "            + ' to learn more about interactive tables.';\n",
              "          element.innerHTML = '';\n",
              "          dataTable['output_type'] = 'display_data';\n",
              "          await google.colab.output.renderOutput(dataTable, element);\n",
              "          const docLink = document.createElement('div');\n",
              "          docLink.innerHTML = docLinkHtml;\n",
              "          element.appendChild(docLink);\n",
              "        }\n",
              "      </script>\n",
              "    </div>\n",
              "  </div>\n",
              "  "
            ]
          },
          "metadata": {},
          "execution_count": 11
        }
      ]
    },
    {
      "cell_type": "code",
      "source": [
        "submission['box_off_num'] = pred"
      ],
      "metadata": {
        "id": "ai1KVPRZtw1c"
      },
      "execution_count": 12,
      "outputs": []
    },
    {
      "cell_type": "code",
      "source": [
        "submission"
      ],
      "metadata": {
        "colab": {
          "base_uri": "https://localhost:8080/",
          "height": 424
        },
        "id": "paR-Racntxv1",
        "outputId": "1d179e3e-11a3-4573-d9bd-c0e748375774"
      },
      "execution_count": 13,
      "outputs": [
        {
          "output_type": "execute_result",
          "data": {
            "text/plain": [
              "               title  box_off_num\n",
              "0             용서는 없다   2985934.65\n",
              "1        아빠가 여자를 좋아해   2062213.21\n",
              "2                하모니   1618187.98\n",
              "3                의형제   1777692.33\n",
              "4              평행 이론   1066103.70\n",
              "..               ...          ...\n",
              "238        해에게서 소년에게    122986.19\n",
              "239           울보 권투부      4122.52\n",
              "240             어떤살인    328351.89\n",
              "241        말하지 못한 비밀      6215.66\n",
              "242  조선안방 스캔들-칠거지악 2       467.92\n",
              "\n",
              "[243 rows x 2 columns]"
            ],
            "text/html": [
              "\n",
              "  <div id=\"df-a9fbe5dc-8ea9-40a2-8e98-7b7fd4c98efb\">\n",
              "    <div class=\"colab-df-container\">\n",
              "      <div>\n",
              "<style scoped>\n",
              "    .dataframe tbody tr th:only-of-type {\n",
              "        vertical-align: middle;\n",
              "    }\n",
              "\n",
              "    .dataframe tbody tr th {\n",
              "        vertical-align: top;\n",
              "    }\n",
              "\n",
              "    .dataframe thead th {\n",
              "        text-align: right;\n",
              "    }\n",
              "</style>\n",
              "<table border=\"1\" class=\"dataframe\">\n",
              "  <thead>\n",
              "    <tr style=\"text-align: right;\">\n",
              "      <th></th>\n",
              "      <th>title</th>\n",
              "      <th>box_off_num</th>\n",
              "    </tr>\n",
              "  </thead>\n",
              "  <tbody>\n",
              "    <tr>\n",
              "      <th>0</th>\n",
              "      <td>용서는 없다</td>\n",
              "      <td>2985934.65</td>\n",
              "    </tr>\n",
              "    <tr>\n",
              "      <th>1</th>\n",
              "      <td>아빠가 여자를 좋아해</td>\n",
              "      <td>2062213.21</td>\n",
              "    </tr>\n",
              "    <tr>\n",
              "      <th>2</th>\n",
              "      <td>하모니</td>\n",
              "      <td>1618187.98</td>\n",
              "    </tr>\n",
              "    <tr>\n",
              "      <th>3</th>\n",
              "      <td>의형제</td>\n",
              "      <td>1777692.33</td>\n",
              "    </tr>\n",
              "    <tr>\n",
              "      <th>4</th>\n",
              "      <td>평행 이론</td>\n",
              "      <td>1066103.70</td>\n",
              "    </tr>\n",
              "    <tr>\n",
              "      <th>...</th>\n",
              "      <td>...</td>\n",
              "      <td>...</td>\n",
              "    </tr>\n",
              "    <tr>\n",
              "      <th>238</th>\n",
              "      <td>해에게서 소년에게</td>\n",
              "      <td>122986.19</td>\n",
              "    </tr>\n",
              "    <tr>\n",
              "      <th>239</th>\n",
              "      <td>울보 권투부</td>\n",
              "      <td>4122.52</td>\n",
              "    </tr>\n",
              "    <tr>\n",
              "      <th>240</th>\n",
              "      <td>어떤살인</td>\n",
              "      <td>328351.89</td>\n",
              "    </tr>\n",
              "    <tr>\n",
              "      <th>241</th>\n",
              "      <td>말하지 못한 비밀</td>\n",
              "      <td>6215.66</td>\n",
              "    </tr>\n",
              "    <tr>\n",
              "      <th>242</th>\n",
              "      <td>조선안방 스캔들-칠거지악 2</td>\n",
              "      <td>467.92</td>\n",
              "    </tr>\n",
              "  </tbody>\n",
              "</table>\n",
              "<p>243 rows × 2 columns</p>\n",
              "</div>\n",
              "      <button class=\"colab-df-convert\" onclick=\"convertToInteractive('df-a9fbe5dc-8ea9-40a2-8e98-7b7fd4c98efb')\"\n",
              "              title=\"Convert this dataframe to an interactive table.\"\n",
              "              style=\"display:none;\">\n",
              "        \n",
              "  <svg xmlns=\"http://www.w3.org/2000/svg\" height=\"24px\"viewBox=\"0 0 24 24\"\n",
              "       width=\"24px\">\n",
              "    <path d=\"M0 0h24v24H0V0z\" fill=\"none\"/>\n",
              "    <path d=\"M18.56 5.44l.94 2.06.94-2.06 2.06-.94-2.06-.94-.94-2.06-.94 2.06-2.06.94zm-11 1L8.5 8.5l.94-2.06 2.06-.94-2.06-.94L8.5 2.5l-.94 2.06-2.06.94zm10 10l.94 2.06.94-2.06 2.06-.94-2.06-.94-.94-2.06-.94 2.06-2.06.94z\"/><path d=\"M17.41 7.96l-1.37-1.37c-.4-.4-.92-.59-1.43-.59-.52 0-1.04.2-1.43.59L10.3 9.45l-7.72 7.72c-.78.78-.78 2.05 0 2.83L4 21.41c.39.39.9.59 1.41.59.51 0 1.02-.2 1.41-.59l7.78-7.78 2.81-2.81c.8-.78.8-2.07 0-2.86zM5.41 20L4 18.59l7.72-7.72 1.47 1.35L5.41 20z\"/>\n",
              "  </svg>\n",
              "      </button>\n",
              "      \n",
              "  <style>\n",
              "    .colab-df-container {\n",
              "      display:flex;\n",
              "      flex-wrap:wrap;\n",
              "      gap: 12px;\n",
              "    }\n",
              "\n",
              "    .colab-df-convert {\n",
              "      background-color: #E8F0FE;\n",
              "      border: none;\n",
              "      border-radius: 50%;\n",
              "      cursor: pointer;\n",
              "      display: none;\n",
              "      fill: #1967D2;\n",
              "      height: 32px;\n",
              "      padding: 0 0 0 0;\n",
              "      width: 32px;\n",
              "    }\n",
              "\n",
              "    .colab-df-convert:hover {\n",
              "      background-color: #E2EBFA;\n",
              "      box-shadow: 0px 1px 2px rgba(60, 64, 67, 0.3), 0px 1px 3px 1px rgba(60, 64, 67, 0.15);\n",
              "      fill: #174EA6;\n",
              "    }\n",
              "\n",
              "    [theme=dark] .colab-df-convert {\n",
              "      background-color: #3B4455;\n",
              "      fill: #D2E3FC;\n",
              "    }\n",
              "\n",
              "    [theme=dark] .colab-df-convert:hover {\n",
              "      background-color: #434B5C;\n",
              "      box-shadow: 0px 1px 3px 1px rgba(0, 0, 0, 0.15);\n",
              "      filter: drop-shadow(0px 1px 2px rgba(0, 0, 0, 0.3));\n",
              "      fill: #FFFFFF;\n",
              "    }\n",
              "  </style>\n",
              "\n",
              "      <script>\n",
              "        const buttonEl =\n",
              "          document.querySelector('#df-a9fbe5dc-8ea9-40a2-8e98-7b7fd4c98efb button.colab-df-convert');\n",
              "        buttonEl.style.display =\n",
              "          google.colab.kernel.accessAllowed ? 'block' : 'none';\n",
              "\n",
              "        async function convertToInteractive(key) {\n",
              "          const element = document.querySelector('#df-a9fbe5dc-8ea9-40a2-8e98-7b7fd4c98efb');\n",
              "          const dataTable =\n",
              "            await google.colab.kernel.invokeFunction('convertToInteractive',\n",
              "                                                     [key], {});\n",
              "          if (!dataTable) return;\n",
              "\n",
              "          const docLinkHtml = 'Like what you see? Visit the ' +\n",
              "            '<a target=\"_blank\" href=https://colab.research.google.com/notebooks/data_table.ipynb>data table notebook</a>'\n",
              "            + ' to learn more about interactive tables.';\n",
              "          element.innerHTML = '';\n",
              "          dataTable['output_type'] = 'display_data';\n",
              "          await google.colab.output.renderOutput(dataTable, element);\n",
              "          const docLink = document.createElement('div');\n",
              "          docLink.innerHTML = docLinkHtml;\n",
              "          element.appendChild(docLink);\n",
              "        }\n",
              "      </script>\n",
              "    </div>\n",
              "  </div>\n",
              "  "
            ]
          },
          "metadata": {},
          "execution_count": 13
        }
      ]
    },
    {
      "cell_type": "code",
      "source": [
        "submission.to_csv('베이스라인.csv',index = False)"
      ],
      "metadata": {
        "id": "weUAnuy9tyXE"
      },
      "execution_count": 14,
      "outputs": []
    },
    {
      "cell_type": "markdown",
      "source": [
        "# 제출 점수(과제부분)"
      ],
      "metadata": {
        "id": "qUSYjotTt-In"
      }
    },
    {
      "cell_type": "markdown",
      "source": [
        "![스크린샷 2022-07-15 오전 2.20.12.png](data:image/png;base64,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)"
      ],
      "metadata": {
        "id": "R2H4oDfLuBLg"
      }
    }
  ]
}